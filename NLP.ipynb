{
 "cells": [
  {
   "cell_type": "code",
   "execution_count": 45,
   "metadata": {},
   "outputs": [],
   "source": [
    "import re\n",
    "import datetime\n",
    "import xml.etree.ElementTree as ET\n",
    "text = \"\"\"\n",
    "Independence Day is celebrated annually on 15 August as a national holiday in India commemorating the nation's independence from the United Kingdom on 15 August 1947, the day when the provisions of the 1947 Indian Independence Act, which transferred legislative sovereignty to the Indian Constituent Assembly, came into effect. India retained King George VI as head of state until its transition to a republic, when the nation adopted the Constitution of India on 26 January 1950 (celebrated as Indian Republic Day) and replaced the dominion prefix, Dominion of India, with the enactment of the sovereign law Constitution of India. India attained independence following the Independence Movement noted for largely non-violent resistance and civil disobedience.\n",
    "It was on 15th August 1947 that India was declared independent from British colonialism, and the reins of control were handed over to the leaders of the Country.\n",
    "The Red Fort in Dehli is also an important Independence Day symbol in India as it is where Indian Prime Minister Jawahar Lal Nehru unveiled India's flag on August 15, 1947.\n",
    "At midnight between 14/08/1947 and 15/08/1947 free India's first prime minister Pandit Jawaharlal Nehru gave his famous \"Tryst with Destiny\" speech.\n",
    "\"\"\"\n",
    "def extractDate(text):\n",
    "    # regex for extracting dates\n",
    "    date_regex = re.compile(r'(\\d{1,2}/\\d{1,2}/\\d{4})')\n",
    "    # regex for extracting year\n",
    "    year_regex = re.compile(r'(\\d{4})')\n",
    "    # regex for extracting month\n",
    "    month_regex = re.compile(r'(\\d{1,2})')\n",
    "    # regex for extracting day\n",
    "    day_regex = re.compile(r'(\\d{1,2})')\n",
    "    # regex for extracting month name\n",
    "    month_name_regex = re.compile(r'(January|February|March|April|May|June|July|August|September|October|November|December)')\n",
    "    # extract all the dates from the text\n",
    "    dates = date_regex.findall(text)\n",
    "    print(\"Dates:\", dates)\n",
    "    # extract all the years from the text\n",
    "    years = year_regex.findall(text)\n",
    "    print(\"Years:\", years)\n",
    "    # extract all the months from the text\n",
    "    months = month_regex.findall(text)\n",
    "    print(\"Months:\", months)\n",
    "    # extract all the days from the text\n",
    "    days = day_regex.findall(text)\n",
    "    print(\"Days:\", days)\n",
    "    # extract all the month names from the text\n",
    "    month_names = month_name_regex.findall(text)\n",
    "    print(\"Month Names:\", month_names)\n",
    "    # create a dictionary to store the extracted date information\n",
    "    date_dict = {}\n",
    "    # iterate over all the dates, years, months and days\n",
    "    for date, year, month, day in zip(dates, years, months, days):\n",
    "        # create a key value pair in the dictionary\n",
    "        date_dict[date] = {}\n",
    "        # add the year, month and day to the dictionary\n",
    "        date_dict[date]['year'] = year\n",
    "        date_dict[date]['month'] = month\n",
    "        date_dict[date]['day'] = day\n",
    "    # iterate over all the month names\n",
    "    for month_name in month_names:\n",
    "        # iterate over all the dates\n",
    "        for date in dates:\n",
    "            # check if the month name is present in the date\n",
    "            if month_name in date:\n",
    "                # get the month number from the month name\n",
    "                month_number = datetime.datetime.strptime(month_name, '%B').month\n",
    "                # add the month number to the dictionary\n",
    "                date_dict[date]['month'] = month_number\n",
    "    # iterate over all the dates\n",
    "    for date in dates:\n",
    "        # check if the year is present in the date\n",
    "        if '2022' in date:\n",
    "            # get the year from the date\n",
    "            year = '2022'\n",
    "            # add the year to the dictionary\n",
    "            date_dict[date]['year'] = year\n",
    "\n",
    "    return date_dict"
   ]
  },
  {
   "cell_type": "code",
   "execution_count": 46,
   "metadata": {},
   "outputs": [
    {
     "name": "stdout",
     "output_type": "stream",
     "text": [
      "Dates: ['14/08/1947', '15/08/1947']\n",
      "Years: ['1947', '1947', '1950', '1947', '1947', '1947', '1947']\n",
      "Months: ['15', '15', '19', '47', '19', '47', '26', '19', '50', '15', '19', '47', '15', '19', '47', '14', '08', '19', '47', '15', '08', '19', '47']\n",
      "Days: ['15', '15', '19', '47', '19', '47', '26', '19', '50', '15', '19', '47', '15', '19', '47', '14', '08', '19', '47', '15', '08', '19', '47']\n",
      "Month Names: ['August', 'August', 'January', 'August', 'August']\n"
     ]
    },
    {
     "data": {
      "text/plain": [
       "{'14/08/1947': {'year': '1947', 'month': '15', 'day': '15'},\n",
       " '15/08/1947': {'year': '1947', 'month': '15', 'day': '15'}}"
      ]
     },
     "execution_count": 46,
     "metadata": {},
     "output_type": "execute_result"
    }
   ],
   "source": [
    "\n",
    "output = extractDate(text)\n",
    "output"
   ]
  },
  {
   "cell_type": "code",
   "execution_count": 2,
   "metadata": {},
   "outputs": [],
   "source": [
    "tree = ET.ElementTree(output)\n",
    "tree.write('dates.xml')"
   ]
  },
  {
   "cell_type": "code",
   "execution_count": 3,
   "metadata": {},
   "outputs": [
    {
     "name": "stdout",
     "output_type": "stream",
     "text": [
      "<output><date std_date=\"15-August-1947\">14/08/1947</date><date std_date=\"15-August-1947\">15/08/1947</date></output>\n"
     ]
    }
   ],
   "source": [
    "# show xml dates.xml\n",
    "with open('dates.xml', 'r') as f:\n",
    "    print(f.read())"
   ]
  },
  {
   "cell_type": "code",
   "execution_count": null,
   "metadata": {},
   "outputs": [],
   "source": [
    "import re\n",
    "import datetime\n",
    "import xml.etree.ElementTree as ET\n",
    "text = \"\"\"\n",
    "Independence Day is celebrated annually on 15 August as a national holiday in India commemorating the nation's independence from the United Kingdom on 15 August 1947, the day when the provisions of the 1947 Indian Independence Act, which transferred legislative sovereignty to the Indian Constituent Assembly, came into effect. India retained King George VI as head of state until its transition to a republic, when the nation adopted the Constitution of India on 26 January 1950 (celebrated as Indian Republic Day) and replaced the dominion prefix, Dominion of India, with the enactment of the sovereign law Constitution of India. India attained independence following the Independence Movement noted for largely non-violent resistance and civil disobedience.\n",
    "It was on 15th August 1947 that India was declared independent from British colonialism, and the reins of control were handed over to the leaders of the Country.\n",
    "The Red Fort in Dehli is also an important Independence Day symbol in India as it is where Indian Prime Minister Jawahar Lal Nehru unveiled India's flag on August 15, 1947.\n",
    "At midnight between 14/08/1947 and 15/08/1947 free India's first prime minister Pandit Jawaharlal Nehru gave his famous \"Tryst with Destiny\" speech.\n",
    "\"\"\"\n",
    "output = ET.Element('output')\n",
    "# extract all the dates mentioned in an input text file and the standardization of them to a unique format\n",
    "def extractDate(text):\n",
    "    # regex for extracting dates\n",
    "    date_regex = re.compile(r'(\\d{1,2}/\\d{1,2}/\\d{4})')\n",
    "    # regex for extracting year\n",
    "    year_regex = re.compile(r'(\\d{4})')\n",
    "    # regex for extracting month\n",
    "    month_regex = re.compile(r'(\\d{1,2})')\n",
    "    # regex for extracting day\n",
    "    day_regex = re.compile(r'(\\d{1,2})')\n",
    "    # regex for extracting month name\n",
    "    month_name_regex = re.compile(r'(January|February|March|April|May|June|July|August|September|October|November|December)')\n",
    "    \n",
    "    # extract all the dates mentioned in an input text file\n",
    "    dates = date_regex.findall(text)\n",
    "    # extract all the year mentioned in an input text file\n",
    "    years = year_regex.findall(text)\n",
    "    # extract all the month mentioned in an input text file\n",
    "    months = month_regex.findall(text)\n",
    "    # extract all the day mentioned in an input text file\n",
    "    days = day_regex.findall(text)\n",
    "    # extract all the month name mentioned in an input text file\n",
    "    month_names = month_name_regex.findall(text)\n",
    "\n",
    "    # standardize the dates\n",
    "    for date in dates:\n",
    "        # extract the year\n",
    "        year = years[dates.index(date)]\n",
    "        # extract the month\n",
    "        month = months[dates.index(date)]\n",
    "        # extract the day\n",
    "        day = days[dates.index(date)]\n",
    "        # extract the month name\n",
    "        month_name = month_names[dates.index(date)]\n",
    "        # standardize the date\n",
    "        std_date = str(day) + '-' + month_name + '-' + year\n",
    "        # create an element for the date\n",
    "        date_element = ET.Element('date', {'std_date':std_date})\n",
    "        # append the date element to the output element\n",
    "        output.append(date_element)\n",
    "        # append the date to the date element\n",
    "        date_element.text = date\n",
    "    \n",
    "\n",
    "    return output\n",
    "\n",
    "output = extractDate(text)\n",
    "# write the output to an XML file\n",
    "tree = ET.ElementTree(output)\n",
    "tree.write('dates_rollno.xml')"
   ]
  }
 ],
 "metadata": {
  "interpreter": {
   "hash": "31f2aee4e71d21fbe5cf8b01ff0e069b9275f58929596ceb00d14d90e3e16cd6"
  },
  "kernelspec": {
   "display_name": "Python 3.8.9 64-bit",
   "language": "python",
   "name": "python3"
  },
  "language_info": {
   "codemirror_mode": {
    "name": "ipython",
    "version": 3
   },
   "file_extension": ".py",
   "mimetype": "text/x-python",
   "name": "python",
   "nbconvert_exporter": "python",
   "pygments_lexer": "ipython3",
   "version": "3.8.9"
  },
  "orig_nbformat": 4
 },
 "nbformat": 4,
 "nbformat_minor": 2
}
